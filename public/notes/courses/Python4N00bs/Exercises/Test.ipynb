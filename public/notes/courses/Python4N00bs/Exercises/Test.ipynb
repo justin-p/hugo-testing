{
  "nbformat": 4,
  "nbformat_minor": 0,
  "metadata": {
    "kernelspec": {
      "display_name": "Python 3",
      "language": "python",
      "name": "python3"
    },
    "language_info": {
      "codemirror_mode": {
        "name": "ipython",
        "version": 3
      },
      "file_extension": ".py",
      "mimetype": "text/x-python",
      "name": "python",
      "nbconvert_exporter": "python",
      "pygments_lexer": "ipython3",
      "version": "3.5.2"
    },
    "colab": {
      "name": "Test.ipynb",
      "provenance": []
    }
  },
  "cells": [
    {
      "cell_type": "markdown",
      "metadata": {
        "id": "UgT94Xmuw9OL",
        "colab_type": "text"
      },
      "source": [
        "# Python for n00bs - final test"
      ]
    },
    {
      "cell_type": "markdown",
      "metadata": {
        "id": "JbuYSTuIw9OR",
        "colab_type": "text"
      },
      "source": [
        "This notebook contains exercises that will test the skills you have learned over the past 4 workshops. You have 1,5 hours to complete the exercises. Once you are done with an exercise, run the assesment cell at the end of the exercise to check your answers. You will see \"Test Passed\" for every exercise that you got the correct answer for."
      ]
    },
    {
      "cell_type": "markdown",
      "metadata": {
        "id": "A7CRMFAew9OY",
        "colab_type": "text"
      },
      "source": [
        "# Exercise 0: An example of how this works"
      ]
    },
    {
      "cell_type": "markdown",
      "metadata": {
        "id": "LQYSzCQWw9Oc",
        "colab_type": "text"
      },
      "source": [
        "This is an example exercise which has already been solved. This is just to show you how to use this notebook. The exercise is to make a list of numbers from 1 to 10."
      ]
    },
    {
      "cell_type": "code",
      "metadata": {
        "id": "_MhBSEmuw9Oi",
        "colab_type": "code",
        "colab": {
          "base_uri": "https://localhost:8080/",
          "height": 35
        },
        "outputId": "bbc5b6ff-7aa1-435b-b7f6-80a3f7ddf4f7"
      },
      "source": [
        "## ToDo: Make a list of numbers from 1 to 10 and call it numbers.\n",
        "\n",
        "numbers = list(range(1, 11))\n",
        "print(numbers)"
      ],
      "execution_count": 3,
      "outputs": [
        {
          "output_type": "stream",
          "text": [
            "[1, 2, 3, 4, 5, 6, 7, 8, 9, 10]\n"
          ],
          "name": "stdout"
        }
      ]
    },
    {
      "cell_type": "markdown",
      "metadata": {
        "id": "2rVCkYefw9Oz",
        "colab_type": "text"
      },
      "source": [
        "Run the next cell to check that you have the correct (expected) code."
      ]
    },
    {
      "cell_type": "code",
      "metadata": {
        "id": "ctmx0KY6w9O3",
        "colab_type": "code",
        "colab": {
          "base_uri": "https://localhost:8080/",
          "height": 35
        },
        "outputId": "cc601bf4-d2c6-4629-89fc-07d49e1fd076"
      },
      "source": [
        "from assertions import Exercise0\n",
        "Exercise0(numbers)"
      ],
      "execution_count": 4,
      "outputs": [
        {
          "output_type": "stream",
          "text": [
            "Test 1 Passed!\n"
          ],
          "name": "stdout"
        }
      ]
    },
    {
      "cell_type": "markdown",
      "metadata": {
        "id": "uaxrNA5ww9PD",
        "colab_type": "text"
      },
      "source": [
        "## Exercise 1: Password check\n",
        "\n",
        "For this exercise, you need to write a function. The name of this function is **pwdCheck**. This function takes a single argument, called **pwd**. This argument is a string. The goal of the function is to check that the string **pwd** is a good, strong password. The function checks the following things:  \n",
        "* The password contains at least one capital (hoofd) letter.\n",
        "* The password contains at least one small (kleine) letter.\n",
        "* The password contains at least one number.\n",
        "* The password contains at least punctuation (speciaal) character.\n",
        "\n",
        "Finally, the function returns a boolean value, which is True if the password is strong, and False if the password does not match any of the 3 of the conditions above.  \n",
        "\n",
        "**Examples:**  \n",
        "pwdCheck(\"$1nterKlaas\")  \n",
        "True  \n",
        "  \n",
        "pwdCheck(\"P@kjesboot12\")  \n",
        "True  \n",
        "  \n",
        "pwdCheck(\"amerigo\")  \n",
        "False  \n",
        "  \n",
        "*Hint 1:* Python strings have built-in methods to check whether a letter is capital or small.  \n",
        "*Hint 2:* Likewise, Python strings have a method to check if a letter is numeric (number) or not.  \n",
        "*Hint 3:* You can find a list of punctuation characters if you import the string library and look at the attribute string.punctuation."
      ]
    },
    {
      "cell_type": "code",
      "metadata": {
        "id": "UZLsBo3bw9PF",
        "colab_type": "code",
        "colab": {}
      },
      "source": [
        "import string\n",
        "def pwdCheck(pwd):\n",
        "    ## Set check to false\n",
        "    check = False\n",
        "    #3 If any letter in pwd is uppercase and is lowercase and is a digit and is a value from string.punctuation \n",
        "    if (any(letter.isupper() for letter in pwd) and any(letter.islower() for letter in pwd) and any(letter.isdigit() for letter in pwd) and any(letter in string.punctuation for letter in pwd)):\n",
        "        ## Set check to true\n",
        "        check = True\n",
        "    # Return check\n",
        "    return check"
      ],
      "execution_count": 0,
      "outputs": []
    },
    {
      "cell_type": "markdown",
      "metadata": {
        "id": "0PLqQ1USw9PS",
        "colab_type": "text"
      },
      "source": [
        "When you have finished coding the function, run this next cell to check your answers."
      ]
    },
    {
      "cell_type": "code",
      "metadata": {
        "id": "8n6f4NZ8w9PU",
        "colab_type": "code",
        "colab": {
          "base_uri": "https://localhost:8080/",
          "height": 90
        },
        "outputId": "7f8df4fc-94fa-40ba-ee90-4f8b35d608bd"
      },
      "source": [
        "from assertions import Exercise1\n",
        "Exercise1(pwdCheck)"
      ],
      "execution_count": 8,
      "outputs": [
        {
          "output_type": "stream",
          "text": [
            "Test 1 Passed!\n",
            "Test 2 Passed!\n",
            "Test 3 Passed!\n",
            "Test 4 Passed!\n"
          ],
          "name": "stdout"
        }
      ]
    },
    {
      "cell_type": "markdown",
      "metadata": {
        "id": "L35YtZG7w9Pd",
        "colab_type": "text"
      },
      "source": [
        "## Exercise 2: Find the extent of a list of numbers"
      ]
    },
    {
      "cell_type": "markdown",
      "metadata": {
        "id": "KU5XlAwrw9Pf",
        "colab_type": "text"
      },
      "source": [
        "The extent of a list of numbers is the **largest number minus the smallest number**. Your task here is to write a function that takes a list of numbers as an argument, and returns the extent. The first thing you should do, is check that the list you provide to the function has only integers in it. If any of the values are not integers, return the value -1. Otherwise, return the largest number minus the smallest number.\n",
        "\n",
        "**Examples:**  \n",
        "extent(34, 30, 14, 50, 55)  \n",
        "41  \n",
        "  \n",
        "extent(1, 10, 2, 9, 3, 8, 4, 7, 5, 6)  \n",
        "9  \n",
        "  \n",
        "extent(1, 4, 5, 7, \"a\", \"b\", \"c\")  \n",
        "-1  \n",
        "  \n",
        "*Hint 1:* You can check if a variable contains an integer or not by using the type() function.  \n",
        "*Hint 2:* Sorting the list might make things a lot easier for you."
      ]
    },
    {
      "cell_type": "code",
      "metadata": {
        "id": "N556mvHOw9Pk",
        "colab_type": "code",
        "colab": {}
      },
      "source": [
        "def extent(*args):\n",
        "    ## if any num in args is not a int, return -1\n",
        "    if (all((type(num)) == int for num in args)):\n",
        "        ## setup a list, filter out unneeded doubles and sort it\n",
        "        numbers=list(set(args))\n",
        "        numbers.sort()\n",
        "        ## return the last number in the list (lenght of numbers -1) minus first number in the list\n",
        "        return numbers[len(numbers)-1]-numbers[0]\n",
        "    else:\n",
        "        return -1"
      ],
      "execution_count": 0,
      "outputs": []
    },
    {
      "cell_type": "markdown",
      "metadata": {
        "id": "BJGzrBT5w9Pw",
        "colab_type": "text"
      },
      "source": [
        "Once you are done, run the next cell to check your answers."
      ]
    },
    {
      "cell_type": "code",
      "metadata": {
        "id": "N4KF48F7w9Pz",
        "colab_type": "code",
        "colab": {
          "base_uri": "https://localhost:8080/",
          "height": 72
        },
        "outputId": "9d1da8b0-2ecd-4014-f276-dcef8825172b"
      },
      "source": [
        "from assertions import Exercise2\n",
        "Exercise2(extent)"
      ],
      "execution_count": 20,
      "outputs": [
        {
          "output_type": "stream",
          "text": [
            "Test 1 Passed!\n",
            "Test 2 Passed!\n",
            "Test 3 Passed!\n"
          ],
          "name": "stdout"
        }
      ]
    },
    {
      "cell_type": "markdown",
      "metadata": {
        "id": "HgFVH_j6w9P8",
        "colab_type": "text"
      },
      "source": [
        "## Exercise 3: Files and dictionaries"
      ]
    },
    {
      "cell_type": "markdown",
      "metadata": {
        "id": "QS78KpCXw9P_",
        "colab_type": "text"
      },
      "source": [
        "You will find a file named \"browsing_info.txt\" in the Exercise directory. Download this file and keep it in the same directory as this notebook. You have to do the following:  \n",
        "* Read the file into memory, as a list of lines\n",
        "* Remove the \\n (newline) character from each of the lines you just read into memory.\n",
        "* Each line of the file contains a term followed by a value. For example - Name:Piet, Web Browser:Chrome. Etc. Your task is to create a Python dictionary that contains the term as the key, and the corresponding value for that term as the value, for each item in the dictionary.\n",
        "* Save this dictionary in a variable called browsing_dict\n",
        "* Find the value corresponding to the key \"IP address\" in this dictionary. Save this value in the variable called IP.  \n",
        "  \n",
        "*Hint 1:* You need to separate each line of text based on the term and value. Each term and value have a **-** between them in the text file. Can you think of a Python string method that separates strings based on a specific character?  \n",
        "*Hint 2:* There are many ways to remove the \\n character. One way is to use the .rstrip() method. Another way could be to just delete the last character from each line. See what's easiest for you.  "
      ]
    },
    {
      "cell_type": "code",
      "metadata": {
        "id": "ohSvfm_gw9QD",
        "colab_type": "code",
        "colab": {}
      },
      "source": [
        "import os\n",
        "'''\n",
        "function that iterates over input.\n",
        "it splits each item in a list on the '-' string\n",
        "and stores the first result as the key and the second result as the value \n",
        "'''\n",
        "def list_to_dict(lines):\n",
        "    return({ (l.split('-')[0]) : (l.split('-')[1]) for l in lines })\n",
        "## read in the lines of the browsing_info file\n",
        "with open('browsing_info.txt','r') as fhandle:\n",
        "    og_lines = fhandle.readlines()\n",
        "## strip each newline char\n",
        "lines=([(line.rstrip('\\n')) for line in og_lines])\n",
        "## convert lines into a dict using list_to_dict\n",
        "browsing_dict=(list_to_dict(lines))\n",
        "## get the value of the 'IP address' key out of the dictionary and store it in IP\n",
        "ip=browsing_dict['IP address']\n"
      ],
      "execution_count": 0,
      "outputs": []
    },
    {
      "cell_type": "code",
      "metadata": {
        "id": "WLgBcxW-D868",
        "colab_type": "code",
        "colab": {}
      },
      "source": [
        ""
      ],
      "execution_count": 0,
      "outputs": []
    },
    {
      "cell_type": "markdown",
      "metadata": {
        "id": "xBULtiwcw9QN",
        "colab_type": "text"
      },
      "source": [
        "When you're done, run the next cell to check your answers"
      ]
    },
    {
      "cell_type": "code",
      "metadata": {
        "id": "4dwq5rKqw9QR",
        "colab_type": "code",
        "colab": {
          "base_uri": "https://localhost:8080/",
          "height": 54
        },
        "outputId": "41d77be1-579a-4121-f82e-efab2935e6fc"
      },
      "source": [
        "from assertions import Exercise3\n",
        "Exercise3(browsing_dict, IP)"
      ],
      "execution_count": 25,
      "outputs": [
        {
          "output_type": "stream",
          "text": [
            "Test 1 Passed!\n",
            "Test 2 Passed!\n"
          ],
          "name": "stdout"
        }
      ]
    },
    {
      "cell_type": "markdown",
      "metadata": {
        "id": "dqtrtq7Mw9QY",
        "colab_type": "text"
      },
      "source": [
        "## Exercise 4: Flipping an image"
      ]
    },
    {
      "cell_type": "markdown",
      "metadata": {
        "id": "gad36M1mw9Qa",
        "colab_type": "text"
      },
      "source": [
        "In this next exercise, you will read an image into memory, using the OpenCV library (cv2). You will find this image in the Exercises folder, under the name \"flipped.jpg\". As you can see, this image is flipped on its side. Your task is to flip the image the right way up, and then display it using the pyplot library from matplotlib. That's all!  \n",
        "  \n",
        "*Hint 1:*  Use the cv2 and matplotlib.pyplot functions.  \n",
        "*Hint 2:* The matrix transpose attribute can be very handy here. Look this up!  \n",
        "*Hint 3:* When you display the image, try specifying cmap=\"gray\" in the list of parameters to the display function."
      ]
    },
    {
      "cell_type": "code",
      "metadata": {
        "id": "w4jM6P17w9Qc",
        "colab_type": "code",
        "colab": {
          "base_uri": "https://localhost:8080/",
          "height": 287
        },
        "outputId": "6770501b-2f84-4b01-a101-1da510351a42"
      },
      "source": [
        "## ToDo: Write your code here, to read the image into memory, flip it the right way up, and display it.\n",
        "import cv2\n",
        "import matplotlib.pyplot as plt\n",
        "\n",
        "img = cv2.imread(\"flipped.jpg\", 0)\n",
        "new_img = cv2.rotate(img, cv2.ROTATE_90_CLOCKWISE)\n",
        "plt.imshow(new_img, cmap=\"gray\")\n",
        "\n",
        "\n",
        "\n"
      ],
      "execution_count": 28,
      "outputs": [
        {
          "output_type": "execute_result",
          "data": {
            "text/plain": [
              "<matplotlib.image.AxesImage at 0x7f5f4c17c160>"
            ]
          },
          "metadata": {
            "tags": []
          },
          "execution_count": 28
        },
        {
          "output_type": "display_data",
          "data": {
            "image/png": "[encoded data removed]",
            "text/plain": [
              "<Figure size 432x288 with 1 Axes>"
            ]
          },
          "metadata": {
            "tags": []
          }
        }
      ]
    },
    {
      "cell_type": "markdown",
      "metadata": {
        "id": "WHYbGl3mw9Qk",
        "colab_type": "text"
      },
      "source": [
        "There is no code to check this result. You just need to see that the image you display is the right way up :)"
      ]
    }
  ]
}