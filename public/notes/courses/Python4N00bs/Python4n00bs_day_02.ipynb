{
 "cells": [
  {
   "cell_type": "markdown",
   "metadata": {},
   "source": [
    "# Python for n00bs - Day 2"
   ]
  },
  {
   "cell_type": "markdown",
   "metadata": {},
   "source": [
    "## Advanced data structure coding, file handling, and importing libraries\n",
    "Welcome to your second lesson on programming with Python! My name is Vikram Mark Radhakrishnan. As usual, you can find me on [LinkedIn](https://www.linkedin.com/in/vikram-mark-radhakrishnan-90038660/), or reach me via email at radhakrishnan@strw.leidenuniv.nl  \n",
    "  \n",
    "This week we will be looking at some slightly advanced concepts in Python data structures. We will start by taking a look at some more examples of loops and see how counters and accummulators can be used to achieve useful tasks. We will then proceed to understand the idea behind comprehension in Python lists.   \n",
    "After this, we discover the wonderful world of external libraries, where we will learn that for every problem we are trying to solve, in every field or subject, there exists an open source library in Python that we can install and use with just a few lines of code.  \n",
    "And finally, we will look at how we can create, read, and write files in Python. So let's get started!"
   ]
  },
  {
   "cell_type": "markdown",
   "metadata": {},
   "source": [
    "### 1. A few common coding patterns with loops"
   ]
  },
  {
   "cell_type": "markdown",
   "metadata": {},
   "source": [
    "Many times, problems that can be solved with loop statements can be classified as accummulator problems, counter problems, or list/data structure processing problems. We will look at examples of each."
   ]
  },
  {
   "cell_type": "markdown",
   "metadata": {},
   "source": [
    "A counter is a simple concept. It is simply a variable (typically of type integer) that counts a certain item of data, or counts how many times a condition is satisfied, in a loop. For example, the following code to count how many times the letter \"e\" appears in the word excessivenesses."
   ]
  },
  {
   "cell_type": "code",
   "execution_count": 1,
   "metadata": {},
   "outputs": [
    {
     "name": "stdout",
     "output_type": "stream",
     "text": "5\n"
    }
   ],
   "source": [
    "word = \"excessivenesses\"\n",
    "\n",
    "counter = 0 # Don't forget this step\n",
    "for letter in word:\n",
    "    if letter == 'e':\n",
    "        counter += 1\n",
    "\n",
    "print(counter)"
   ]
  },
  {
   "cell_type": "markdown",
   "metadata": {},
   "source": [
    "An \"accummulator\" in coderspeak is a numerical variable that changes its value with every iteration of a loop, based on a calculation. That is, it accummulates the effects of the repeated calculation, until it contains the final required value at the end of the loop. Take a look at this code to calculate the Highest Common Factor (HCF) between two numbers. Can you understand how it works? Observe how the variables keep changing values at each iteration. These are examples of accummulators."
   ]
  },
  {
   "cell_type": "code",
   "execution_count": 4,
   "metadata": {},
   "outputs": [
    {
     "name": "stdout",
     "output_type": "stream",
     "text": "Highest common factor of 20 and 8 is 4\n"
    }
   ],
   "source": [
    "x = 20\n",
    "y = 8\n",
    "\n",
    "original_x = x\n",
    "original_y = y\n",
    "\n",
    "while y != 0:\n",
    "    temp = y\n",
    "    y = x % y\n",
    "    x = temp\n",
    "\n",
    "print(\"Highest common factor of {0} and {1} is {2}\".format(original_x, original_y, x))"
   ]
  },
  {
   "cell_type": "code",
   "execution_count": 13,
   "metadata": {},
   "outputs": [
    {
     "name": "stdout",
     "output_type": "stream",
     "text": "100.75\n"
    }
   ],
   "source": []
  },
  {
   "cell_type": "markdown",
   "metadata": {},
   "source": [
    "**ToDo:** A simple use of a counter and an accummulator. Make a list of numbers. Use a for loop to calculate the average of these numbers. (Of course, you can do this with the sum() and len() functions, but this is just to exercise your programming muscles)."
   ]
  },
  {
   "cell_type": "code",
   "execution_count": 1,
   "metadata": {},
   "outputs": [
    {
     "name": "stdout",
     "output_type": "stream",
     "text": "100.75\n"
    }
   ],
   "source": [
    "numbers=[11,89,89,1,32,44,71,62,4]\n",
    "c=0\n",
    "t=0\n",
    "for n in numbers:\n",
    "    c+=1\n",
    "    t+=n\n",
    "print(t / n)"
   ]
  },
  {
   "cell_type": "markdown",
   "metadata": {},
   "source": [
    "### 2. Listo comprehendo!\n",
    "List comprehension is the lazy programmer's best friend in creating large data structures with Python. And remember, a lazy programmer is a good programmer!  \n",
    "Let's take a look at one of the shared exercises from week 1:"
   ]
  },
  {
   "cell_type": "markdown",
   "metadata": {},
   "source": [
    "Here we create a list filled with elements of different data types. Our goal is to check if the element is a number, and if it is, check if it is larger than 3. All numbers that satisfy this criterion must be added to a new list. Can you think of a practical problem where filtering if data in a list is numerical or not comes in handy?"
   ]
  },
  {
   "cell_type": "code",
   "execution_count": 3,
   "metadata": {},
   "outputs": [
    {
     "name": "stdout",
     "output_type": "stream",
     "text": "[5, 5, 4, 5, 7]\n"
    }
   ],
   "source": [
    "# Here is our list:\n",
    "weird_list = [5, 3, 5, 2, 4, 5, 7, 0, 1, 'Paul']\n",
    "\n",
    "# Let's make an empty list to store the results of our checks\n",
    "resulting_list = []\n",
    "\n",
    "# Let's loop through each element in the list one by one\n",
    "for element in weird_list:\n",
    "    \n",
    "    # First we check if the element is a number (let's just say an integer for now)\n",
    "    if type(element) == int:\n",
    "        \n",
    "        # If it is, then we check if it is greater than 3, and then print it\n",
    "        if element > 3:\n",
    "            resulting_list.append(element)\n",
    "\n",
    "# Print the result\n",
    "print(resulting_list)"
   ]
  },
  {
   "cell_type": "markdown",
   "metadata": {},
   "source": [
    "How many lines of code did that take?"
   ]
  },
  {
   "cell_type": "markdown",
   "metadata": {},
   "source": [
    "What if I told you, you can do that in just a single line of code?"
   ]
  },
  {
   "cell_type": "code",
   "execution_count": 4,
   "metadata": {},
   "outputs": [
    {
     "name": "stdout",
     "output_type": "stream",
     "text": "[5, 5, 4, 5, 7]\n"
    }
   ],
   "source": [
    "print([element for element in weird_list if type(element) == int and element > 3])"
   ]
  },
  {
   "cell_type": "markdown",
   "metadata": {},
   "source": [
    "What you just saw here was an example of \"list comprehension\" in Python. List comprehension makes use of 3 concepts - the Pythonic list, the for loop, and the if statement. Within the list comprehension statement, you are looping through the original list, checking if each element satisfies a condition, and if it does, you are appending that element in a new list. You can also modify this element before appending it to the new list, within the same list comprehension statement. The result of a list comprehension statement is always a new list.  "
   ]
  },
  {
   "cell_type": "markdown",
   "metadata": {},
   "source": [
    "**ToDo:** Let's start with an easy one. Suppose you have a list of integers from 1 to 10. (Try making this list using Python's built-in \"range\" function). Use list comprehension to produce a new list called \"odds\". This list must contain only the odd numbers from the original list."
   ]
  },
  {
   "cell_type": "code",
   "execution_count": 8,
   "metadata": {},
   "outputs": [
    {
     "name": "stdout",
     "output_type": "stream",
     "text": "[1, 3, 5, 7, 9]\n"
    }
   ],
   "source": [
    "num_range=range(1,10)\n",
    "odd_list=([n for n in num_range if (n % 2) !=0])\n",
    "print(odd_list)"
   ]
  },
  {
   "cell_type": "markdown",
   "metadata": {},
   "source": [
    "**ToDo:** Similar to the previous exercise, let's make a new list out of the original list of numbers from 1 to 10, this time with the squares of the odd numbers. Let's call it odd_squares. Do the same with the cubes of the even numbers and call this list even_cubes."
   ]
  },
  {
   "cell_type": "code",
   "execution_count": 14,
   "metadata": {},
   "outputs": [
    {
     "name": "stdout",
     "output_type": "stream",
     "text": "[1, 9, 25, 49, 81]\n[4, 16, 36, 64]\n"
    }
   ],
   "source": [
    "num_range=range(1,10)\n",
    "odd_squares=([(n*n) for n in num_range if (n % 2) != 0])\n",
    "even_squares=([(n*n) for n in num_range if (n % 2) == 0])\n",
    "print(odd_squares)\n",
    "print(even_squares)"
   ]
  },
  {
   "cell_type": "markdown",
   "metadata": {},
   "source": [
    "**ToDo:** If you're getting the hang of this, let's try working with a string. For example \"Telephone number +31 657 890 123\". Use list comprehension to extract only the numbers from this string, and save them in a list of integers."
   ]
  },
  {
   "cell_type": "code",
   "execution_count": 27,
   "metadata": {},
   "outputs": [
    {
     "name": "stdout",
     "output_type": "stream",
     "text": "['3', '1', '6', '5', '7', '8', '9', '0', '1', '2', '3']\n"
    }
   ],
   "source": [
    "string=\"Telephone number +31 657 890 123\"\n",
    "ints=([i for i in string if i.isdigit() == True])\n",
    "print(ints)"
   ]
  },
  {
   "cell_type": "markdown",
   "metadata": {},
   "source": [
    "Similar to list comprehension, Python dictionaries can also be created from existing dictionaries OR from other iterables. Let's recap dictionaries for a moment."
   ]
  },
  {
   "cell_type": "code",
   "execution_count": 28,
   "metadata": {},
   "outputs": [
    {
     "name": "stdout",
     "output_type": "stream",
     "text": "dict_items([('Luck', 10), ('Skill', 20), ('Concentrated power of will', 15), ('Pleasure', 5), ('Pain', 50)])\ndict_keys(['Luck', 'Skill', 'Concentrated power of will', 'Pleasure', 'Pain'])\ndict_values([10, 20, 15, 5, 50])\n"
    }
   ],
   "source": [
    "# This is a dictionary in Python. It consists of key:value pairs.\n",
    "fort_minor = {\"Luck\":10, \"Skill\":20, \"Concentrated power of will\":15, \"Pleasure\":5, \"Pain\":50}\n",
    "\n",
    "# We can access the items in a dictionary using the .items() method\n",
    "print( fort_minor.items() )\n",
    "\n",
    "# The keys used in the dictionary can be accessed via the .keys() method\n",
    "print( fort_minor.keys() )\n",
    "\n",
    "# And if you just want the values associated with the keys, use the .values() method\n",
    "print( fort_minor.values() )"
   ]
  },
  {
   "cell_type": "markdown",
   "metadata": {},
   "source": [
    "Similar to lists, new dictionaries can be made using dictionary comprehension on an old dictionary, by using a for loop over the keys, values, or items. Remember, you need a key:value pair for each element in a dictionary, and looping over the .items() of a dictionary returns effectively a list of tuples. What does this mean for us?"
   ]
  },
  {
   "cell_type": "code",
   "execution_count": 34,
   "metadata": {},
   "outputs": [
    {
     "name": "stdout",
     "output_type": "stream",
     "text": "{'Luck': 10, 'Skill': 20, 'Concentrated power of will': 15, 'Pleasure': 5}\n"
    }
   ],
   "source": [
    "Twenty_percent_or_less = {key:value for (key, value) in fort_minor.items() if value <= 20}\n",
    "print(Twenty_percent_or_less)"
   ]
  },
  {
   "cell_type": "markdown",
   "metadata": {},
   "source": [
    "**ToDo:** Make a dictionary containing the names of the people in this class as keys, and the number of languages they speak as the corresponding values. Use dictionary comprehension to make a new dictionary called multilinguals, with only the names and corresponding number of languages of people who can speak three or more languages."
   ]
  },
  {
   "cell_type": "code",
   "execution_count": 37,
   "metadata": {},
   "outputs": [
    {
     "name": "stdout",
     "output_type": "stream",
     "text": "{'Gerart': 4, 'Jaap': 3}\n"
    }
   ],
   "source": [
    "cool_bois = {\"Kees\":1, \"Gerart\":4, \"Jaap\":3, \"Joop\":2, \"David\":2}\n",
    "multilinguals= {key:value for (key, value) in cool_bois.items() if value >= 3}\n",
    "print(multilinguals)"
   ]
  },
  {
   "cell_type": "markdown",
   "metadata": {},
   "source": [
    "Here is an example of using dictionary comprehension to create a new dictionary, not from another dictionary but from an iterable. As long as you can make key:value pairs out of your data, you can forge it into a dictionary."
   ]
  },
  {
   "cell_type": "code",
   "execution_count": 38,
   "metadata": {},
   "outputs": [
    {
     "name": "stdout",
     "output_type": "stream",
     "text": "{1: 1, 2: 4, 3: 9, 4: 16, 5: 25, 6: 36, 7: 49, 8: 64, 9: 81}\n"
    }
   ],
   "source": [
    "numbers = range(1,10)\n",
    "numbers_and_their_squares = {n:n**2 for n in numbers}\n",
    "print(numbers_and_their_squares)"
   ]
  },
  {
   "cell_type": "markdown",
   "metadata": {},
   "source": [
    "**ToDo:** Make a dictionary using comprehension, where the keys are numbers 1 to 10, and the value is the word \"odd\" or the word \"even\" depending on the number."
   ]
  },
  {
   "cell_type": "code",
   "execution_count": 62,
   "metadata": {},
   "outputs": [
    {
     "name": "stdout",
     "output_type": "stream",
     "text": "{1: 'odd', 2: 'even', 3: 'odd', 4: 'even', 5: 'odd', 6: 'even', 7: 'odd', 8: 'even', 9: 'odd'}\n"
    }
   ],
   "source": [
    "num_range=range(1,10)\n",
    "odd_dir={n:('even' if (n % 2) == 0 else 'odd') for n in num_range}\n",
    "print(odd_dir)"
   ]
  },
  {
   "cell_type": "markdown",
   "metadata": {},
   "source": [
    "### 3. The all-powerful import!\n",
    "<img src=\"nb_images/python_xkcd.png\" width=\"400\" height=\"400\"/>"
   ]
  },
  {
   "cell_type": "markdown",
   "metadata": {},
   "source": [
    "One of the most powerful features of Python is the massive repository of libraries you can use for various tasks, and to solve many specific kinds of problems. Python comes with the [Python Standard Library](https://docs.python.org/3/library/) which is very extensive and can be used to solve a wide variety of problems. Do you want to inspect your filesystem, change your working directory, or move some files around? Use the os library! Need to do some advanced mathematical calculations? Use the math library!  \n",
    "To access the functions and objects of a certain library, you need to \"import\" it. Let's take a look at the [os](https://docs.python.org/3/library/os.html) and [glob](https://docs.python.org/3/library/glob.html) libraries for now."
   ]
  },
  {
   "cell_type": "code",
   "execution_count": 64,
   "metadata": {},
   "outputs": [],
   "source": [
    "import os"
   ]
  },
  {
   "cell_type": "code",
   "execution_count": 65,
   "metadata": {},
   "outputs": [
    {
     "name": "stdout",
     "output_type": "stream",
     "text": "Directory  test  Created \n"
    }
   ],
   "source": [
    "os.getcwd() # Get working directory. This is the directory in which your Python code is currently running.\n",
    "os.listdir() # List all files and folders in a specified directory (default is current working directory)\n",
    "\n",
    "# Create a new directory\n",
    "new_directory = \"test\"\n",
    "if not os.path.exists(new_directory):\n",
    "    os.mkdir(new_directory)\n",
    "    print(\"Directory \" , new_directory ,  \" Created \")\n",
    "else:    \n",
    "    print(\"Directory \" , new_directory ,  \" already exists\")"
   ]
  },
  {
   "cell_type": "code",
   "execution_count": 66,
   "metadata": {},
   "outputs": [
    {
     "name": "stdout",
     "output_type": "stream",
     "text": "[]\n"
    }
   ],
   "source": [
    "import glob\n",
    "\n",
    "# List all files that match this wildcard pattern\n",
    "print(glob.glob(\"*.ipynb\"))"
   ]
  },
  {
   "cell_type": "markdown",
   "metadata": {},
   "source": [
    "The Google Colab platform also provides you with some nice libraries for uploading your own files (of course Google makes it easy to give them your data :P)"
   ]
  },
  {
   "cell_type": "code",
   "execution_count": 87,
   "metadata": {},
   "outputs": [
    {
     "name": "stdout",
     "output_type": "stream",
     "text": "0.0\n1.0\n1.2246467991473532e-16\n-1.0\n-2.4492935982947064e-16\n1.0\n3.6739403974420594e-16\n-1.0\n-4.898587196589413e-16\n1.0\n"
    }
   ],
   "source": [
    "import math\n",
    "nums=[0,1,2,3,4]\n",
    "for n in nums:\n",
    "    Xpi=n*math.pi\n",
    "    print(math.sin(Xpi))\n",
    "    print(math.cos(Xpi))"
   ]
  },
  {
   "cell_type": "markdown",
   "metadata": {},
   "source": [
    "**ToDo:** Import the math library. Within a loop, make a variable that goes from 0 to 4 times pi, in multiples of pi (0, 1xpi, 2xpi, 3xpi, 4xpi). Calculate the sine of this variable and the cosine of this variable using math functions and print them out."
   ]
  },
  {
   "cell_type": "markdown",
   "metadata": {},
   "source": [
    "### 4. File handling in Python"
   ]
  },
  {
   "cell_type": "markdown",
   "metadata": {},
   "source": [
    "Python provides you with built-in functions to read data from a file on disk, to write into a file, or to append data to an existing file. Whenever you work with large amounts of data, you will want to save the processed data onto disk before shutting down your Python program."
   ]
  },
  {
   "cell_type": "markdown",
   "metadata": {},
   "source": [
    "Let's start by creating a new file in which we can write some text"
   ]
  },
  {
   "cell_type": "code",
   "execution_count": 99,
   "metadata": {},
   "outputs": [],
   "source": [
    "fhandle = open(\"myFile.txt\",\"w+\")"
   ]
  },
  {
   "cell_type": "markdown",
   "metadata": {},
   "source": [
    "Let's take a look at this statement more closely. The \"open\" keyword signifies that a file is being opened, for you to operate on it. The first argument to the open function is the name of the file. Here, we append .txt to our file name because it is a standard test file. The second argument is a flag, signifying what mode you are opening it in. Flags can be \"r\" for read only, \"w\" for write only - overwriting any previous data in the file, \"a\" for append, which is a write-only mode in which new data is written to the file without overwriting the existing data it contains. The + signifies that the file will be created, if it does not already exist."
   ]
  },
  {
   "cell_type": "code",
   "execution_count": 100,
   "metadata": {},
   "outputs": [],
   "source": [
    "?open"
   ]
  },
  {
   "cell_type": "markdown",
   "metadata": {},
   "source": [
    "The open function returns what is known as a \"file handle\". It's simply a variable that we can use to access and/or manipulate file contents. With the file handle we just obtained from opening the file in write mode, we can now start adding text to our file."
   ]
  },
  {
   "cell_type": "code",
   "execution_count": 101,
   "metadata": {},
   "outputs": [],
   "source": [
    "lines = range(1,100)\n",
    "\n",
    "for line in lines:\n",
    "    fhandle.write(\"This is line {0}\\n\".format(line))"
   ]
  },
  {
   "cell_type": "markdown",
   "metadata": {},
   "source": [
    "And this is important - now that we are done with our file, we need to close the file. This frees up memory, and frees up the file for you or another program to read or edit."
   ]
  },
  {
   "cell_type": "code",
   "execution_count": 102,
   "metadata": {},
   "outputs": [],
   "source": [
    "fhandle.close()"
   ]
  },
  {
   "cell_type": "markdown",
   "metadata": {},
   "source": [
    "Take a look at the file in your filesystem. What does it contain?  \n",
    "We can append more data to the file by opening it in append mode."
   ]
  },
  {
   "cell_type": "code",
   "execution_count": 103,
   "metadata": {},
   "outputs": [],
   "source": [
    "fhandle = open(\"myFile.txt\",\"a+\")\n",
    "fhandle.write(\"Here's an additional line\\n\")\n",
    "fhandle.write(\"And a final line for the road\\n\")\n",
    "fhandle.close()"
   ]
  },
  {
   "cell_type": "markdown",
   "metadata": {},
   "source": [
    "When we have a file with some data in it, we can read it into memory using the read() method. Python's built in file handling functions are good for writing and reading text files. For other files such as .csv files or images, you are better off using the methods available to you in external libraries - we will see more of these next lesson."
   ]
  },
  {
   "cell_type": "code",
   "execution_count": 104,
   "metadata": {},
   "outputs": [
    {
     "data": {
      "text/plain": "'This is line 1\\nThis '"
     },
     "execution_count": 104,
     "metadata": {},
     "output_type": "execute_result"
    }
   ],
   "source": [
    "fhandle = open(\"myFile.txt\", \"r+\")\n",
    "contents = fhandle.read()\n",
    "fhandle.close()\n",
    "\n",
    "contents[:20]"
   ]
  },
  {
   "cell_type": "markdown",
   "metadata": {},
   "source": [
    "You can read a single line from a text file using the .readlines() method. This method works like a \"generator\" in Python. A generator is a function that will give you the next value of a sequence of data every time it is called. In other words, calling .readlines() within a loop will read each successive line of the file."
   ]
  },
  {
   "cell_type": "code",
   "execution_count": 105,
   "metadata": {},
   "outputs": [
    {
     "name": "stdout",
     "output_type": "stream",
     "text": "This is line 1\n\nThis is line 2\n\nThis is line 3\n\nThis is line 4\n\nThis is line 5\n\nThis is line 6\n\nThis is line 7\n\nThis is line 8\n\nThis is line 9\n\nThis is line 10\n\nThis is line 11\n\nThis is line 12\n\nThis is line 13\n\nThis is line 14\n\nThis is line 15\n\nThis is line 16\n\nThis is line 17\n\nThis is line 18\n\nThis is line 19\n\nThis is line 20\n\n"
    }
   ],
   "source": [
    "fhandle = open(\"myFile.txt\",\"r+\")\n",
    "\n",
    "counter = 20\n",
    "\n",
    "while counter > 0:\n",
    "    single_line = fhandle.readline()\n",
    "    print(single_line)\n",
    "    counter -= 1\n",
    "    \n",
    "fhandle.close()"
   ]
  },
  {
   "cell_type": "markdown",
   "metadata": {},
   "source": [
    "Very similar to the .readline() method, is the .readlines() method. Note the difference in spelling! The .readlines() method is NOT a generator. It returns a list of all the lines in the text file."
   ]
  },
  {
   "cell_type": "code",
   "execution_count": 106,
   "metadata": {},
   "outputs": [
    {
     "name": "stdout",
     "output_type": "stream",
     "text": "['This is line 1\\n', 'This is line 2\\n', 'This is line 3\\n', 'This is line 4\\n', 'This is line 5\\n', 'This is line 6\\n', 'This is line 7\\n', 'This is line 8\\n', 'This is line 9\\n', 'This is line 10\\n', 'This is line 11\\n', 'This is line 12\\n', 'This is line 13\\n', 'This is line 14\\n', 'This is line 15\\n', 'This is line 16\\n', 'This is line 17\\n', 'This is line 18\\n', 'This is line 19\\n', 'This is line 20\\n']\n"
    }
   ],
   "source": [
    "fhandle = open(\"myFile.txt\",\"r+\")\n",
    "\n",
    "all_lines = fhandle.readlines()\n",
    "\n",
    "print(all_lines[:20])"
   ]
  },
  {
   "cell_type": "markdown",
   "metadata": {},
   "source": [
    "It is annoying to have to remember to close all opened files every time. And it's not being lazy to do so each time. But a lazy programmer is a good programmer, so let's take a look at a way of handling files without having to remember to close them - the \"with\" and \"as\" keywords."
   ]
  },
  {
   "cell_type": "code",
   "execution_count": 107,
   "metadata": {},
   "outputs": [],
   "source": [
    "with open(\"myFile.txt\", \"a+\") as fhandle:\n",
    "    fhandle.write(\"I lied. Here is one more line\\n\")"
   ]
  },
  {
   "cell_type": "code",
   "execution_count": 108,
   "metadata": {},
   "outputs": [
    {
     "name": "stdout",
     "output_type": "stream",
     "text": "[\"Here's an additional line\\n\", 'And a final line for the road\\n', 'I lied. Here is one more line\\n']\n"
    }
   ],
   "source": [
    "with open(\"myFile.txt\", \"r+\") as fhandle:\n",
    "    all_lines = fhandle.readlines()\n",
    "\n",
    "print(all_lines[-3:])"
   ]
  },
  {
   "cell_type": "code",
   "execution_count": 111,
   "metadata": {},
   "outputs": [],
   "source": [
    "txt=['When we connect we are created with by someone seems to have had a field day with caps lock enabled. It seems we have a some sort of shell where every command we type is converted to uppercase. We are able to call some environment variables though.\\n','I then decided to try some random environment variables.\\n','Since this yielded no results I to read over the bash man page where I stumbled on Special Parameters.\\n','Where $0 looked someone what promising. This could contain something like /bin/sh.','Which seemed to be the case. This gave me a /bin/sh shell where I spawned /bin/bash and proceeded to cat the password file.\\n']\n",
    "with open(\"justin-p.me.txt\", \"w+\") as fhandle:\n",
    "    for l in txt:\n",
    "        fhandle.write(l)"
   ]
  },
  {
   "cell_type": "markdown",
   "metadata": {},
   "source": [
    "**ToDo:** Make a new text file. Go to your favorite blog, Wikipedia article, or online story, and copy some text Or if you're feeling creative, write your own text. Write this text into your new text file. Now read it back into memory, and count how many words it contains."
   ]
  },
  {
   "cell_type": "markdown",
   "metadata": {},
   "source": [
    "That's a wrap for day 2! Work on the exercises for more practice. You can find them [here](https://github.com/xfer-learn/Python4N00bs/tree/master/Exercises). See you next time!"
   ]
  }
 ],
 "metadata": {
  "kernelspec": {
   "display_name": "Python 3",
   "language": "python",
   "name": "python3"
  },
  "language_info": {
   "codemirror_mode": {
    "name": "ipython",
    "version": 3
   },
   "file_extension": ".py",
   "mimetype": "text/x-python",
   "name": "python",
   "nbconvert_exporter": "python",
   "pygments_lexer": "ipython3",
   "version": "3.7.4"
  }
 },
 "nbformat": 4,
 "nbformat_minor": 2
}